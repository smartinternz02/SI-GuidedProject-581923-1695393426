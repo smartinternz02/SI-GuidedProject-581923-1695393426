{
  "nbformat": 4,
  "nbformat_minor": 0,
  "metadata": {
    "colab": {
      "provenance": []
    },
    "kernelspec": {
      "name": "python3",
      "display_name": "Python 3"
    },
    "language_info": {
      "name": "python"
    }
  },
  "cells": [
    {
      "cell_type": "code",
      "source": [
        "import pandas as pd\n",
        "import numpy as np"
      ],
      "metadata": {
        "id": "Cvyveh9JK5D7"
      },
      "execution_count": 2,
      "outputs": []
    },
    {
      "cell_type": "code",
      "execution_count": 5,
      "metadata": {
        "colab": {
          "base_uri": "https://localhost:8080/"
        },
        "id": "p4_twcmZKgey",
        "outputId": "61fbf4da-641f-400f-8579-fc29cecb809f"
      },
      "outputs": [
        {
          "output_type": "stream",
          "name": "stdout",
          "text": [
            "   Feature 1  Feature 2  Feature 3  Feature 4\n",
            "0   0.327981   0.701591   0.868236   0.815062\n",
            "1   0.758000   0.624713   0.632084   0.939419\n",
            "2   0.059545   0.882895   0.223164   0.190375\n",
            "3   0.556188   0.719458   0.764812   0.499854\n"
          ]
        }
      ],
      "source": [
        "# Question 1\n",
        "data=np.random.rand(4,4)\n",
        "features=[\"Feature 1\",\"Feature 2\",\"Feature 3\",\"Feature 4\"]\n",
        "df=pd.DataFrame(data,columns=features)\n",
        "print(df)"
      ]
    },
    {
      "cell_type": "code",
      "source": [
        "# Question 2\n",
        "features1=[\"Random Value 1\",\"Random Value 2\",\"Random Value 3\",\"Random Value 4\"]\n",
        "df=pd.DataFrame(data,columns=features1)\n",
        "print(df)"
      ],
      "metadata": {
        "colab": {
          "base_uri": "https://localhost:8080/"
        },
        "id": "hYJ4xs5gMUcE",
        "outputId": "17f35730-b265-44f3-8039-19470803bc72"
      },
      "execution_count": 7,
      "outputs": [
        {
          "output_type": "stream",
          "name": "stdout",
          "text": [
            "   Random Value 1  Random Value 2  Random Value 3  Random Value 4\n",
            "0        0.327981        0.701591        0.868236        0.815062\n",
            "1        0.758000        0.624713        0.632084        0.939419\n",
            "2        0.059545        0.882895        0.223164        0.190375\n",
            "3        0.556188        0.719458        0.764812        0.499854\n"
          ]
        }
      ]
    },
    {
      "cell_type": "code",
      "source": [
        "# Question 3\n",
        "df.describe()"
      ],
      "metadata": {
        "colab": {
          "base_uri": "https://localhost:8080/",
          "height": 300
        },
        "id": "lWDGz-buNZde",
        "outputId": "0febdb75-5ce8-444f-fe7e-d7d1f4a63bfd"
      },
      "execution_count": 9,
      "outputs": [
        {
          "output_type": "execute_result",
          "data": {
            "text/plain": [
              "       Random Value 1  Random Value 2  Random Value 3  Random Value 4\n",
              "count        4.000000        4.000000        4.000000        4.000000\n",
              "mean         0.425428        0.732164        0.622074        0.611177\n",
              "std          0.300593        0.108569        0.282960        0.336045\n",
              "min          0.059545        0.624713        0.223164        0.190375\n",
              "25%          0.260872        0.682371        0.529854        0.422484\n",
              "50%          0.442084        0.710525        0.698448        0.657458\n",
              "75%          0.606641        0.760317        0.790668        0.846151\n",
              "max          0.758000        0.882895        0.868236        0.939419"
            ],
            "text/html": [
              "\n",
              "  <div id=\"df-0762115c-4835-4cd3-b6b2-bcf58e1e2776\" class=\"colab-df-container\">\n",
              "    <div>\n",
              "<style scoped>\n",
              "    .dataframe tbody tr th:only-of-type {\n",
              "        vertical-align: middle;\n",
              "    }\n",
              "\n",
              "    .dataframe tbody tr th {\n",
              "        vertical-align: top;\n",
              "    }\n",
              "\n",
              "    .dataframe thead th {\n",
              "        text-align: right;\n",
              "    }\n",
              "</style>\n",
              "<table border=\"1\" class=\"dataframe\">\n",
              "  <thead>\n",
              "    <tr style=\"text-align: right;\">\n",
              "      <th></th>\n",
              "      <th>Random Value 1</th>\n",
              "      <th>Random Value 2</th>\n",
              "      <th>Random Value 3</th>\n",
              "      <th>Random Value 4</th>\n",
              "    </tr>\n",
              "  </thead>\n",
              "  <tbody>\n",
              "    <tr>\n",
              "      <th>count</th>\n",
              "      <td>4.000000</td>\n",
              "      <td>4.000000</td>\n",
              "      <td>4.000000</td>\n",
              "      <td>4.000000</td>\n",
              "    </tr>\n",
              "    <tr>\n",
              "      <th>mean</th>\n",
              "      <td>0.425428</td>\n",
              "      <td>0.732164</td>\n",
              "      <td>0.622074</td>\n",
              "      <td>0.611177</td>\n",
              "    </tr>\n",
              "    <tr>\n",
              "      <th>std</th>\n",
              "      <td>0.300593</td>\n",
              "      <td>0.108569</td>\n",
              "      <td>0.282960</td>\n",
              "      <td>0.336045</td>\n",
              "    </tr>\n",
              "    <tr>\n",
              "      <th>min</th>\n",
              "      <td>0.059545</td>\n",
              "      <td>0.624713</td>\n",
              "      <td>0.223164</td>\n",
              "      <td>0.190375</td>\n",
              "    </tr>\n",
              "    <tr>\n",
              "      <th>25%</th>\n",
              "      <td>0.260872</td>\n",
              "      <td>0.682371</td>\n",
              "      <td>0.529854</td>\n",
              "      <td>0.422484</td>\n",
              "    </tr>\n",
              "    <tr>\n",
              "      <th>50%</th>\n",
              "      <td>0.442084</td>\n",
              "      <td>0.710525</td>\n",
              "      <td>0.698448</td>\n",
              "      <td>0.657458</td>\n",
              "    </tr>\n",
              "    <tr>\n",
              "      <th>75%</th>\n",
              "      <td>0.606641</td>\n",
              "      <td>0.760317</td>\n",
              "      <td>0.790668</td>\n",
              "      <td>0.846151</td>\n",
              "    </tr>\n",
              "    <tr>\n",
              "      <th>max</th>\n",
              "      <td>0.758000</td>\n",
              "      <td>0.882895</td>\n",
              "      <td>0.868236</td>\n",
              "      <td>0.939419</td>\n",
              "    </tr>\n",
              "  </tbody>\n",
              "</table>\n",
              "</div>\n",
              "    <div class=\"colab-df-buttons\">\n",
              "\n",
              "  <div class=\"colab-df-container\">\n",
              "    <button class=\"colab-df-convert\" onclick=\"convertToInteractive('df-0762115c-4835-4cd3-b6b2-bcf58e1e2776')\"\n",
              "            title=\"Convert this dataframe to an interactive table.\"\n",
              "            style=\"display:none;\">\n",
              "\n",
              "  <svg xmlns=\"http://www.w3.org/2000/svg\" height=\"24px\" viewBox=\"0 -960 960 960\">\n",
              "    <path d=\"M120-120v-720h720v720H120Zm60-500h600v-160H180v160Zm220 220h160v-160H400v160Zm0 220h160v-160H400v160ZM180-400h160v-160H180v160Zm440 0h160v-160H620v160ZM180-180h160v-160H180v160Zm440 0h160v-160H620v160Z\"/>\n",
              "  </svg>\n",
              "    </button>\n",
              "\n",
              "  <style>\n",
              "    .colab-df-container {\n",
              "      display:flex;\n",
              "      gap: 12px;\n",
              "    }\n",
              "\n",
              "    .colab-df-convert {\n",
              "      background-color: #E8F0FE;\n",
              "      border: none;\n",
              "      border-radius: 50%;\n",
              "      cursor: pointer;\n",
              "      display: none;\n",
              "      fill: #1967D2;\n",
              "      height: 32px;\n",
              "      padding: 0 0 0 0;\n",
              "      width: 32px;\n",
              "    }\n",
              "\n",
              "    .colab-df-convert:hover {\n",
              "      background-color: #E2EBFA;\n",
              "      box-shadow: 0px 1px 2px rgba(60, 64, 67, 0.3), 0px 1px 3px 1px rgba(60, 64, 67, 0.15);\n",
              "      fill: #174EA6;\n",
              "    }\n",
              "\n",
              "    .colab-df-buttons div {\n",
              "      margin-bottom: 4px;\n",
              "    }\n",
              "\n",
              "    [theme=dark] .colab-df-convert {\n",
              "      background-color: #3B4455;\n",
              "      fill: #D2E3FC;\n",
              "    }\n",
              "\n",
              "    [theme=dark] .colab-df-convert:hover {\n",
              "      background-color: #434B5C;\n",
              "      box-shadow: 0px 1px 3px 1px rgba(0, 0, 0, 0.15);\n",
              "      filter: drop-shadow(0px 1px 2px rgba(0, 0, 0, 0.3));\n",
              "      fill: #FFFFFF;\n",
              "    }\n",
              "  </style>\n",
              "\n",
              "    <script>\n",
              "      const buttonEl =\n",
              "        document.querySelector('#df-0762115c-4835-4cd3-b6b2-bcf58e1e2776 button.colab-df-convert');\n",
              "      buttonEl.style.display =\n",
              "        google.colab.kernel.accessAllowed ? 'block' : 'none';\n",
              "\n",
              "      async function convertToInteractive(key) {\n",
              "        const element = document.querySelector('#df-0762115c-4835-4cd3-b6b2-bcf58e1e2776');\n",
              "        const dataTable =\n",
              "          await google.colab.kernel.invokeFunction('convertToInteractive',\n",
              "                                                    [key], {});\n",
              "        if (!dataTable) return;\n",
              "\n",
              "        const docLinkHtml = 'Like what you see? Visit the ' +\n",
              "          '<a target=\"_blank\" href=https://colab.research.google.com/notebooks/data_table.ipynb>data table notebook</a>'\n",
              "          + ' to learn more about interactive tables.';\n",
              "        element.innerHTML = '';\n",
              "        dataTable['output_type'] = 'display_data';\n",
              "        await google.colab.output.renderOutput(dataTable, element);\n",
              "        const docLink = document.createElement('div');\n",
              "        docLink.innerHTML = docLinkHtml;\n",
              "        element.appendChild(docLink);\n",
              "      }\n",
              "    </script>\n",
              "  </div>\n",
              "\n",
              "\n",
              "<div id=\"df-f63d088b-71df-467a-bd85-9a6c3b6d1c9b\">\n",
              "  <button class=\"colab-df-quickchart\" onclick=\"quickchart('df-f63d088b-71df-467a-bd85-9a6c3b6d1c9b')\"\n",
              "            title=\"Suggest charts.\"\n",
              "            style=\"display:none;\">\n",
              "\n",
              "<svg xmlns=\"http://www.w3.org/2000/svg\" height=\"24px\"viewBox=\"0 0 24 24\"\n",
              "     width=\"24px\">\n",
              "    <g>\n",
              "        <path d=\"M19 3H5c-1.1 0-2 .9-2 2v14c0 1.1.9 2 2 2h14c1.1 0 2-.9 2-2V5c0-1.1-.9-2-2-2zM9 17H7v-7h2v7zm4 0h-2V7h2v10zm4 0h-2v-4h2v4z\"/>\n",
              "    </g>\n",
              "</svg>\n",
              "  </button>\n",
              "\n",
              "<style>\n",
              "  .colab-df-quickchart {\n",
              "    background-color: #E8F0FE;\n",
              "    border: none;\n",
              "    border-radius: 50%;\n",
              "    cursor: pointer;\n",
              "    display: none;\n",
              "    fill: #1967D2;\n",
              "    height: 32px;\n",
              "    padding: 0 0 0 0;\n",
              "    width: 32px;\n",
              "  }\n",
              "\n",
              "  .colab-df-quickchart:hover {\n",
              "    background-color: #E2EBFA;\n",
              "    box-shadow: 0px 1px 2px rgba(60, 64, 67, 0.3), 0px 1px 3px 1px rgba(60, 64, 67, 0.15);\n",
              "    fill: #174EA6;\n",
              "  }\n",
              "\n",
              "  [theme=dark] .colab-df-quickchart {\n",
              "    background-color: #3B4455;\n",
              "    fill: #D2E3FC;\n",
              "  }\n",
              "\n",
              "  [theme=dark] .colab-df-quickchart:hover {\n",
              "    background-color: #434B5C;\n",
              "    box-shadow: 0px 1px 3px 1px rgba(0, 0, 0, 0.15);\n",
              "    filter: drop-shadow(0px 1px 2px rgba(0, 0, 0, 0.3));\n",
              "    fill: #FFFFFF;\n",
              "  }\n",
              "</style>\n",
              "\n",
              "  <script>\n",
              "    async function quickchart(key) {\n",
              "      const charts = await google.colab.kernel.invokeFunction(\n",
              "          'suggestCharts', [key], {});\n",
              "    }\n",
              "    (() => {\n",
              "      let quickchartButtonEl =\n",
              "        document.querySelector('#df-f63d088b-71df-467a-bd85-9a6c3b6d1c9b button');\n",
              "      quickchartButtonEl.style.display =\n",
              "        google.colab.kernel.accessAllowed ? 'block' : 'none';\n",
              "    })();\n",
              "  </script>\n",
              "</div>\n",
              "    </div>\n",
              "  </div>\n"
            ]
          },
          "metadata": {},
          "execution_count": 9
        }
      ]
    },
    {
      "cell_type": "code",
      "source": [
        "# Question 4\n",
        "null_values=df.isnull().sum()\n",
        "data_types=df.dtypes\n",
        "print(\"Null Values: \")\n",
        "print(null_values)\n",
        "print(\"\\nDataTypes: \")\n",
        "print(data_types)\n"
      ],
      "metadata": {
        "colab": {
          "base_uri": "https://localhost:8080/"
        },
        "id": "0lxnKH4UNqy_",
        "outputId": "19aa1c10-f5e1-450f-a1b4-c1f656f375ce"
      },
      "execution_count": 11,
      "outputs": [
        {
          "output_type": "stream",
          "name": "stdout",
          "text": [
            "Null Values: \n",
            "Random Value 1    0\n",
            "Random Value 2    0\n",
            "Random Value 3    0\n",
            "Random Value 4    0\n",
            "dtype: int64\n",
            "\n",
            "DataTypes: \n",
            "Random Value 1    float64\n",
            "Random Value 2    float64\n",
            "Random Value 3    float64\n",
            "Random Value 4    float64\n",
            "dtype: object\n"
          ]
        }
      ]
    },
    {
      "cell_type": "code",
      "source": [
        "# Question 5\n",
        "# Using location method loc()\n",
        "for index in range(len(df)):\n",
        "  value_feature2=df.loc[index,'Random Value 2']\n",
        "  value_feature3=df.loc[index,'Random Value 3']\n",
        "  print(f\"Index: {index}\")\n",
        "  print(f\"Random Value 2 : {value_feature2}, Location: (row {index+1}, column 'Random Value 2')\")\n",
        "  print(f\"Random Value 3 : {value_feature3}, Location: (row {index+1}, column 'Random Value 3')\")\n",
        "  print()\n",
        "\n",
        "#Using index location method iloc()\n",
        "for index in range(len(df)):\n",
        "  value_feature2=df.iloc[index,1]\n",
        "  value_feature3=df.iloc[index,2]\n",
        "  print(f\"Index: {index}\")\n",
        "  print(f\"Random Value 2 : {value_feature2}, Location: (row {index+1}, column 'Random Value 2')\")\n",
        "  print(f\"Random Value 3 : {value_feature3}, Location: (row {index+1}, column 'Random Value 3')\")"
      ],
      "metadata": {
        "colab": {
          "base_uri": "https://localhost:8080/"
        },
        "id": "M1iwSyx3OaFT",
        "outputId": "70c47607-fc7c-4ec4-da74-3fcf739ca153"
      },
      "execution_count": 14,
      "outputs": [
        {
          "output_type": "stream",
          "name": "stdout",
          "text": [
            "Index: 0\n",
            "Random Value 2 : 0.701590855894393, Location: (row 1, column 'Random Value 2')\n",
            "Random Value 3 : 0.8682355215500024, Location: (row 1, column 'Random Value 3')\n",
            "\n",
            "Index: 1\n",
            "Random Value 2 : 0.6247128746907845, Location: (row 2, column 'Random Value 2')\n",
            "Random Value 3 : 0.6320836977741602, Location: (row 2, column 'Random Value 3')\n",
            "\n",
            "Index: 2\n",
            "Random Value 2 : 0.8828949290500491, Location: (row 3, column 'Random Value 2')\n",
            "Random Value 3 : 0.22316398879265675, Location: (row 3, column 'Random Value 3')\n",
            "\n",
            "Index: 3\n",
            "Random Value 2 : 0.7194583000071718, Location: (row 4, column 'Random Value 2')\n",
            "Random Value 3 : 0.7648119616487, Location: (row 4, column 'Random Value 3')\n",
            "\n",
            "Index: 0\n",
            "Random Value 2 : 0.701590855894393, Location: (row 1, column 'Random Value 2')\n",
            "Random Value 3 : 0.8682355215500024, Location: (row 1, column 'Random Value 3')\n",
            "Index: 1\n",
            "Random Value 2 : 0.6247128746907845, Location: (row 2, column 'Random Value 2')\n",
            "Random Value 3 : 0.6320836977741602, Location: (row 2, column 'Random Value 3')\n",
            "Index: 2\n",
            "Random Value 2 : 0.8828949290500491, Location: (row 3, column 'Random Value 2')\n",
            "Random Value 3 : 0.22316398879265675, Location: (row 3, column 'Random Value 3')\n",
            "Index: 3\n",
            "Random Value 2 : 0.7194583000071718, Location: (row 4, column 'Random Value 2')\n",
            "Random Value 3 : 0.7648119616487, Location: (row 4, column 'Random Value 3')\n"
          ]
        }
      ]
    }
  ]
}